{
 "cells": [
  {
   "cell_type": "code",
   "execution_count": 1,
   "id": "8d73163c",
   "metadata": {},
   "outputs": [
    {
     "name": "stderr",
     "output_type": "stream",
     "text": [
      "/Users/punyakn/Library/Python/3.9/lib/python/site-packages/urllib3/__init__.py:35: NotOpenSSLWarning: urllib3 v2 only supports OpenSSL 1.1.1+, currently the 'ssl' module is compiled with 'LibreSSL 2.8.3'. See: https://github.com/urllib3/urllib3/issues/3020\n",
      "  warnings.warn(\n"
     ]
    }
   ],
   "source": [
    "# This Code pushes data to my MongoDb Database\n",
    "\n",
    "import requests\n",
    "from pymongo import MongoClient\n",
    "import xml.etree.ElementTree as ET\n",
    "import logging\n",
    "\n",
    "connection_string = \"mongodb+srv://#########################################################################/\"\n",
    "client = MongoClient(connection_string)"
   ]
  },
  {
   "cell_type": "code",
   "execution_count": 2,
   "id": "4656ca93",
   "metadata": {},
   "outputs": [],
   "source": [
    "# Database name\n",
    "db = client['DataAnalysis_SS']"
   ]
  },
  {
   "cell_type": "code",
   "execution_count": 3,
   "id": "ab3baeda",
   "metadata": {},
   "outputs": [],
   "source": [
    "# Function to retrieve data from XML and store it in MongoDB\n",
    "def store_xml_data_in_mongodb(xml_url, CausesOfDeath, limit=1200):\n",
    "    response = requests.get(xml_url)\n",
    "    if response.status_code == 200:\n",
    "        root = ET.fromstring(response.content)\n",
    "        collection = db[CausesOfDeath]\n",
    "        count = 0\n",
    "        for row in root.findall('.//row'):\n",
    "            if count >= limit:\n",
    "                break\n",
    "            data = {}\n",
    "            for field in row:\n",
    "                data[field.tag] = field.text\n",
    "            collection.insert_one(data)\n",
    "            count += 1\n",
    "        print(\"XML data stored successfully in MongoDB.\")\n",
    "    else:\n",
    "        print(\"Failed to retrieve XML data.\")"
   ]
  },
  {
   "cell_type": "code",
   "execution_count": 5,
   "id": "aa109a05",
   "metadata": {},
   "outputs": [],
   "source": [
    "# Function to retrieve data from JSON and store it in MongoDB\n",
    "def store_json_data_in_mongodb(json_url, DrugOverdose, limit=1200):\n",
    "    response = requests.get(json_url)\n",
    "    if response.status_code == 200:\n",
    "        try:\n",
    "            json_data = response.json()\n",
    "            if 'data' in json_data:\n",
    "                data_records = json_data['data'][:limit]\n",
    "                collection = db[DrugOverdose]\n",
    "                for record in data_records:\n",
    "                    if len(record) >= 14:\n",
    "                        desired_fields = {\n",
    "                            \"INDICATOR\": record[8],\n",
    "                            \"PANEL\": record[9],\n",
    "                            \"PANEL_NUM\": record[10],\n",
    "                            \"UNIT\": record[11],\n",
    "                            \"UNIT_NUM\": record[12],\n",
    "                            \"STUB_NAME\": record[13],\n",
    "                            \"STUB_NAME_NUM\": record[14],\n",
    "                            \"STUB_LABEL\": record[15],\n",
    "                            \"STUB_LABEL_NUM\": record[16],\n",
    "                            \"YEAR\": record[17],\n",
    "                            \"YEAR_NUM\": record[18],\n",
    "                            \"AGE\": record[19],\n",
    "                            \"AGE_NUM\": record[20],\n",
    "                            \"ESTIMATE\": record[21]\n",
    "                        }\n",
    "                        collection.insert_one(desired_fields)\n",
    "                print(\"JSON data stored successfully in MongoDB.\")\n",
    "            else:\n",
    "                print(\"JSON data does not contain 'data' key.\")\n",
    "        except Exception as e:\n",
    "            print(\"Error occurred while processing JSON data:\", e)\n",
    "    else:\n",
    "        print(\"Failed to retrieve JSON data.\")\n"
   ]
  },
  {
   "cell_type": "code",
   "execution_count": 6,
   "id": "500d55a3",
   "metadata": {},
   "outputs": [],
   "source": [
    "\n",
    "# Function to retrieve data from XML and store it in MongoDB for a Suicide\n",
    "def store_additional_xml_data_in_mongodb(xml_url, Suicide, limit=1200):\n",
    "    try:\n",
    "        response = requests.get(xml_url)\n",
    "        response.raise_for_status()\n",
    "        root = ET.fromstring(response.content)\n",
    "        collection = db[Suicide]\n",
    "        count = 0\n",
    "        for row in root.findall('.//row'):\n",
    "            if count >= limit:\n",
    "                break\n",
    "            data = {elem.tag: elem.text for elem in row}\n",
    "            collection.insert_one(data)\n",
    "            count += 1\n",
    "        logging.info(\"Suicide XML data stored successfully in MongoDB.\")\n",
    "    except requests.RequestException as e:\n",
    "        logging.error(f\"Failed to retrieve additional XML data: {e}\")\n",
    "    except ET.ParseError as e:\n",
    "        logging.error(f\"XML parsing failed: {e}\")\n",
    "    except Exception as e:\n",
    "        logging.error(f\"Error storing additional data in MongoDB: {e}\")\n"
   ]
  },
  {
   "cell_type": "code",
   "execution_count": 7,
   "id": "a75a99de",
   "metadata": {},
   "outputs": [
    {
     "name": "stdout",
     "output_type": "stream",
     "text": [
      "XML data stored successfully in MongoDB.\n",
      "JSON data stored successfully in MongoDB.\n"
     ]
    }
   ],
   "source": [
    "# Store Suicide XML data in MongoDB \n",
    "store_additional_xml_data_in_mongodb(\"https://data.cdc.gov/api/views/9j2v-jamp/rows.xml?accessType=DOWNLOAD\", \"Suicide\")\n",
    "\n",
    "# Store XML data in MongoDB\n",
    "store_xml_data_in_mongodb(\"https://data.cdc.gov/api/views/bi63-dtpu/rows.xml?accessType=DOWNLOAD\", \"CausesOfDeath\")\n",
    "\n",
    "# Store JSON data in MongoDB\n",
    "store_json_data_in_mongodb(\"https://data.cdc.gov/api/views/95ax-ymtc/rows.json?accessType=DOWNLOAD\", \"DrugOverdose\")\n"
   ]
  },
  {
   "cell_type": "code",
   "execution_count": null,
   "id": "60f2d4c4",
   "metadata": {},
   "outputs": [],
   "source": []
  }
 ],
 "metadata": {
  "kernelspec": {
   "display_name": "Python 3 (ipykernel)",
   "language": "python",
   "name": "python3"
  },
  "language_info": {
   "codemirror_mode": {
    "name": "ipython",
    "version": 3
   },
   "file_extension": ".py",
   "mimetype": "text/x-python",
   "name": "python",
   "nbconvert_exporter": "python",
   "pygments_lexer": "ipython3",
   "version": "3.9.6"
  }
 },
 "nbformat": 4,
 "nbformat_minor": 5
}
